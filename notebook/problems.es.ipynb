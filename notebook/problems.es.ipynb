{
 "cells": [
  {
   "cell_type": "markdown",
   "id": "a41f3622",
   "metadata": {},
   "source": [
    "# Ejercicios de probabilidad"
   ]
  },
  {
   "cell_type": "markdown",
   "id": "a6bdbd89",
   "metadata": {},
   "source": [
    "## Ejercicio 1 \n",
    "\n",
    "Dos dados se lanzan una vez y se observa el total obtenido. Usa una simulación para encontrar la probabilidad estimada de que la puntuación sea mayor a 7 o un número par. Una simulación es una repetición del mismo experimento multiples veces para observar su comportamiento:\n",
    "\n",
    "- Ejecuta el experimento 1000 veces (lanza 2 dados 1000 veces, y suma el número de ambos dados).\n",
    "- Lleva ua cuenta de los números y las veces que la suma fue mayor a 7 o un número par.\n",
    "- Divide el número del paso 2 entre el número de iteraciones(1000)."
   ]
  },
  {
   "cell_type": "code",
   "execution_count": 1,
   "id": "8939d892",
   "metadata": {},
   "outputs": [
    {
     "name": "stdout",
     "output_type": "stream",
     "text": [
      "Los resultados fueron mayor a 7 y números pares 667 veces\n",
      "El porcentaje es de 66.70%\n"
     ]
    }
   ],
   "source": [
    "# TODO\n",
    "import numpy as np\n",
    "import pandas as pd\n",
    "\n",
    "resultados_1 = []\n",
    "resultados_2 = []\n",
    "\n",
    "for i in range(1000):\n",
    "    dado1 = np.random.randint(1,7) \n",
    "    dado2 = np.random.randint(1,7) \n",
    "    resultados_1.append(dado1)\n",
    "    resultados_2.append(dado2)\n",
    "    \n",
    "resultados_suma = np.add(resultados_1,resultados_2)\n",
    "counter = 0\n",
    "\n",
    "for i in resultados_suma:\n",
    "  if i > 7 or i % 2 == 0:\n",
    "     counter += 1\n",
    "\n",
    "probabilidad = counter / 1000\n",
    "probabilidad_porcentaje = probabilidad * 100 \n",
    "\n",
    "print(f'Los resultados fueron mayor a 7 y números pares {counter} veces' )\n",
    "print('El porcentaje es de','{:.2f}%'.format(probabilidad_porcentaje))\n"
   ]
  },
  {
   "cell_type": "markdown",
   "id": "55732bca",
   "metadata": {},
   "source": [
    "## Ejercicio 2\n",
    "\n",
    "Una caja contiene 10 bolas blancas, 20 bolas rojas y 30 bolas verdes. Si tomamos 5 bolas de la caja reemplazándolas (tomando una bola, anotando el color y luego regresandola a la caja). Queremos saber la probabilidad de:\n",
    "\n",
    "1. Tomar 3 blancas y 2 rojas.\n",
    "2. Toas todas del mismo color.\n",
    "\n",
    "Ejecuta el experimento 1000 veces y calcula las probabilidades que mencionadas."
   ]
  },
  {
   "cell_type": "code",
   "execution_count": null,
   "id": "23244d20",
   "metadata": {},
   "outputs": [
    {
     "name": "stdout",
     "output_type": "stream",
     "text": [
      "Probabilidad de tomar 3 blancas y 2 rojas: 0.10% \n",
      "Probabilidad de tomar todas del mismo color: 3.00%\n"
     ]
    }
   ],
   "source": [
    "ball_box = {}\n",
    "\n",
    "# Crea la cajas con las bolas\n",
    "for i in range(60):\n",
    "    if i < 10:\n",
    "        ball_box[i] = \"White\"\n",
    "    elif (i > 9) and (i < 30):\n",
    "        ball_box[i] = \"Red\"\n",
    "    else:\n",
    "        ball_box[i] = \"Green\"\n",
    "\n",
    "            \n",
    "# TODO\n",
    "n_reps = 1000\n",
    "n_balls = 5\n",
    "condicion_1 = 0\n",
    "condicion_2 = 0\n",
    "\n",
    "def take_ball():\n",
    "    colores = [ball_box[np.random.randint(0, 60)] for _ in range(n_balls)]           \n",
    "    colores = np.array(colores)\n",
    "\n",
    "    white = sum(colores == \"White\")\n",
    "    red = sum(colores == \"Red\")\n",
    "    green = sum(colores == \"Green\")\n",
    "\n",
    "    return (white == 3 and red == 2),(white == 5 or red == 5 or green == 5)\n",
    "\n",
    "for _ in range(n_reps):\n",
    "    c1, c2 = take_ball()\n",
    "    condicion_1 += int(c1)\n",
    "    condicion_2 += int(c2)\n",
    "        \n",
    "p_cond1 = (condicion_1 / n_reps) * 100\n",
    "p_cond2 = (condicion_2 / n_reps) * 100\n",
    "\n",
    "print(f\"Probabilidad de tomar 3 blancas y 2 rojas: {p_cond1:.2f}% \")\n",
    "print(f\"Probabilidad de tomar todas del mismo color: {p_cond2:.2f}%\")\n",
    "\n"
   ]
  }
 ],
 "metadata": {
  "kernelspec": {
   "display_name": "Python 3",
   "language": "python",
   "name": "python3"
  },
  "language_info": {
   "codemirror_mode": {
    "name": "ipython",
    "version": 3
   },
   "file_extension": ".py",
   "mimetype": "text/x-python",
   "name": "python",
   "nbconvert_exporter": "python",
   "pygments_lexer": "ipython3",
   "version": "3.11.4"
  }
 },
 "nbformat": 4,
 "nbformat_minor": 5
}
